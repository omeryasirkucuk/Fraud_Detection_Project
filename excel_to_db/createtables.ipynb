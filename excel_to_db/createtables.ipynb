{
 "cells": [
  {
   "cell_type": "code",
   "execution_count": 9,
   "metadata": {
    "pycharm": {
     "name": "#%%\n"
    }
   },
   "outputs": [],
   "source": [
    "# db: postgres\n",
    "# username: postgres\n",
    "# password: osmanomermali1773"
   ]
  },
  {
   "cell_type": "code",
   "execution_count": 1,
   "metadata": {
    "pycharm": {
     "name": "#%%\n"
    }
   },
   "outputs": [],
   "source": [
    "import psycopg2"
   ]
  },
  {
   "cell_type": "code",
   "execution_count": 4,
   "metadata": {
    "pycharm": {
     "name": "#%%\n"
    }
   },
   "outputs": [],
   "source": [
    "conn = psycopg2.connect(\n",
    "    host=\"master.cpgo4cg8cyys.eu-west-1.rds.amazonaws.com\",\n",
    "    port=5432,\n",
    "    user=\"postgres\",\n",
    "    password=\"osmanomermali1773\"\n",
    ")"
   ]
  },
  {
   "cell_type": "code",
   "execution_count": 11,
   "metadata": {
    "pycharm": {
     "name": "#%%\n"
    }
   },
   "outputs": [],
   "source": [
    "conn.autocommit=True\n",
    "cursor = conn.cursor()"
   ]
  },
  {
   "cell_type": "code",
   "execution_count": 17,
   "metadata": {
    "pycharm": {
     "name": "#%%\n"
    }
   },
   "outputs": [],
   "source": [
    "# Create Tables\n",
    "\n",
    "create_table_paysim1 = \"\"\"\n",
    "CREATE TABLE IF NOT EXISTS paysim1 (\n",
    "    step INT,\n",
    "    type VARCHAR(50),\n",
    "    amount DECIMAL(18, 2),\n",
    "    nameOrig VARCHAR(50),\n",
    "    oldbalanceOrg DECIMAL(18, 2),\n",
    "    newbalanceOrig DECIMAL(18, 2),\n",
    "    nameDest VARCHAR(50),\n",
    "    oldbalanceDest DECIMAL(18, 2),\n",
    "    newbalanceDest DECIMAL(18, 2),\n",
    "    isFraud INT,\n",
    "    isFlaggedFraud INT\n",
    ");\n",
    "\n",
    "\"\"\"\n",
    "\n",
    "cursor.execute(create_table_paysim1)"
   ]
  },
  {
   "cell_type": "code",
   "execution_count": 22,
   "metadata": {
    "pycharm": {
     "name": "#%%\n"
    }
   },
   "outputs": [],
   "source": [
    "# Create Tables\n",
    "\n",
    "create_table_banksim1 = \"\"\"\n",
    "CREATE TABLE IF NOT EXISTS banksim1 (\n",
    "    step INT,\n",
    "    customer VARCHAR(50),\n",
    "    age INT,\n",
    "    gender CHAR(1),\n",
    "    zipcodeOri VARCHAR(10),\n",
    "    merchant VARCHAR(50),\n",
    "    zipMerchant VARCHAR(10),\n",
    "    category VARCHAR(50),\n",
    "    amount DECIMAL(18, 2),\n",
    "    fraud INT\n",
    ");\n",
    "\n",
    "\"\"\"\n",
    "\n",
    "cursor.execute(create_table_banksim1)"
   ]
  },
  {
   "cell_type": "code",
   "execution_count": 21,
   "metadata": {
    "pycharm": {
     "name": "#%%\n"
    }
   },
   "outputs": [],
   "source": [
    "# Create Tables\n",
    "\n",
    "create_table_banksim2 = \"\"\"\n",
    "CREATE TABLE IF NOT EXISTS banksim2 (\n",
    "    Source VARCHAR(50),\n",
    "    Target VARCHAR(50),\n",
    "    Weight DECIMAL(18, 2),\n",
    "    typeTrans VARCHAR(50),\n",
    "    fraud INT\n",
    ");\n",
    "\n",
    "\"\"\"\n",
    "\n",
    "cursor.execute(create_table_banksim2)"
   ]
  },
  {
   "cell_type": "code",
   "execution_count": 23,
   "metadata": {
    "pycharm": {
     "name": "#%%\n"
    }
   },
   "outputs": [],
   "source": [
    "cursor.close()"
   ]
  }
 ],
 "metadata": {
  "kernelspec": {
   "display_name": "Python 3 (ipykernel)",
   "language": "python",
   "name": "python3"
  },
  "language_info": {
   "codemirror_mode": {
    "name": "ipython",
    "version": 3
   },
   "file_extension": ".py",
   "mimetype": "text/x-python",
   "name": "python",
   "nbconvert_exporter": "python",
   "pygments_lexer": "ipython3",
   "version": "3.9.12"
  }
 },
 "nbformat": 4,
 "nbformat_minor": 1
}